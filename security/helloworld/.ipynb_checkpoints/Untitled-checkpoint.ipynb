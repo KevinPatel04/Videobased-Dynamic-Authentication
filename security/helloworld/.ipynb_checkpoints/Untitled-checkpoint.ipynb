{
 "cells": [
  {
   "cell_type": "code",
   "execution_count": 1,
   "metadata": {},
   "outputs": [
    {
     "ename": "IndentationError",
     "evalue": "unexpected indent (<ipython-input-1-f0830d844719>, line 2)",
     "output_type": "error",
     "traceback": [
      "\u001b[1;36m  File \u001b[1;32m\"<ipython-input-1-f0830d844719>\"\u001b[1;36m, line \u001b[1;32m2\u001b[0m\n\u001b[1;33m    directory = r\"..\\registeration images\"\u001b[0m\n\u001b[1;37m    ^\u001b[0m\n\u001b[1;31mIndentationError\u001b[0m\u001b[1;31m:\u001b[0m unexpected indent\n"
     ]
    }
   ],
   "source": [
    "cap = cv2.VideoCapture(0)\n",
    "directory = r\"..\\registeration images\"\n",
    "os.chdir(directory)\n",
    "key = request.POST['mno']\n",
    "i = 0\n",
    "while(i < 10):\n",
    "    # Capture frame-by-frame\n",
    "    ret, frame = cap.read()\n",
    "    i = i+1\n",
    "    print(frame)\n",
    "    # Our operations on the frame come here\n",
    "    filename = str(key) + \"_\" + str(i)+'.jpg'\n",
    "    # writting the resulting frame\n",
    "    cv2.imwrite(filename, frame)\n",
    "    if cv2.waitKey(1) & 0xFF == ord('q'):\n",
    "        break\n",
    "\n",
    "    # When everything done, release the capture\n",
    "img = cv2.imread(filename)\n",
    "\n",
    "cv2.imshow('Test image', img)\n",
    "\n",
    "cv2.waitKey(0)\n",
    "cap.release()\n",
    "cv2.destroyAllWindows()"
   ]
  }
 ],
 "metadata": {
  "kernelspec": {
   "display_name": "Python 3",
   "language": "python",
   "name": "python3"
  },
  "language_info": {
   "codemirror_mode": {
    "name": "ipython",
    "version": 3
   },
   "file_extension": ".py",
   "mimetype": "text/x-python",
   "name": "python",
   "nbconvert_exporter": "python",
   "pygments_lexer": "ipython3",
   "version": "3.7.4"
  }
 },
 "nbformat": 4,
 "nbformat_minor": 2
}
